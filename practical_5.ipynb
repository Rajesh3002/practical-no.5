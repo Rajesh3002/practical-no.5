{
  "nbformat": 4,
  "nbformat_minor": 0,
  "metadata": {
    "colab": {
      "name": "practical 5.ipynb",
      "provenance": []
    },
    "kernelspec": {
      "name": "python3",
      "display_name": "Python 3"
    },
    "language_info": {
      "name": "python"
    }
  },
  "cells": [
    {
      "cell_type": "markdown",
      "source": [
        "write a programm to create,append and remove listsin python "
      ],
      "metadata": {
        "id": "cPrtOrB7OwGt"
      }
    },
    {
      "cell_type": "code",
      "source": [
        "cars = ['BMW', 'LEMBORGHINI', 'MG', 'TESLA', 'TATA']\n",
        "bike=['HONDA','HERO','TVS','BULLET','BAJAJ']\n",
        "print(\"cars are :\",cars)\n",
        "print(\"bikes are :\",bike)\n",
        "vehical=cars+bike\n",
        "print(\"vehical are :\",vehical)\n",
        "bike.remove(\"TVS\") \n",
        "print(\"bike are : \",bike)\n",
        "print(\"updated cars are : \",cars)\n",
        "print(\"updated bike are :\",bike) "
      ],
      "metadata": {
        "colab": {
          "base_uri": "https://localhost:8080/"
        },
        "id": "MpLKuVu6OxV7",
        "outputId": "4cc050c3-d328-4c9e-f21c-80e1a7e274cc"
      },
      "execution_count": 15,
      "outputs": [
        {
          "output_type": "stream",
          "name": "stdout",
          "text": [
            "cars are : ['BMW', 'LEMBORGHINI', 'MG', 'TESLA', 'TATA']\n",
            "bikes are : ['HONDA', 'HERO', 'TVS', 'BULLET', 'BAJAJ']\n",
            "vehical are : ['BMW', 'LEMBORGHINI', 'MG', 'TESLA', 'TATA', 'HONDA', 'HERO', 'TVS', 'BULLET', 'BAJAJ']\n",
            "bike are :  ['HONDA', 'HERO', 'BULLET', 'BAJAJ']\n",
            "updated cars are :  ['BMW', 'LEMBORGHINI', 'MG', 'TESLA', 'TATA']\n",
            "updated bike are : ['HONDA', 'HERO', 'BULLET', 'BAJAJ']\n"
          ]
        }
      ]
    }
  ]
}